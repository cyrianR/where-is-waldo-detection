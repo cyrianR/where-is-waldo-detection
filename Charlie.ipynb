{
  "nbformat": 4,
  "nbformat_minor": 0,
  "metadata": {
    "colab": {
      "provenance": []
    },
    "kernelspec": {
      "name": "python3",
      "display_name": "Python 3"
    },
    "language_info": {
      "name": "python"
    }
  },
  "cells": [
    {
      "cell_type": "code",
      "execution_count": 27,
      "metadata": {
        "id": "IVWHE4Xcfed1",
        "outputId": "f9bd51c8-0322-48a0-a10e-ddbe224cb8ff",
        "colab": {
          "base_uri": "https://localhost:8080/"
        }
      },
      "outputs": [
        {
          "output_type": "stream",
          "name": "stdout",
          "text": [
            "Cloning into 'Charlie-DB'...\n",
            "remote: Enumerating objects: 470, done.\u001b[K\n",
            "remote: Counting objects:  12% (1/8)\u001b[K\rremote: Counting objects:  25% (2/8)\u001b[K\rremote: Counting objects:  37% (3/8)\u001b[K\rremote: Counting objects:  50% (4/8)\u001b[K\rremote: Counting objects:  62% (5/8)\u001b[K\rremote: Counting objects:  75% (6/8)\u001b[K\rremote: Counting objects:  87% (7/8)\u001b[K\rremote: Counting objects: 100% (8/8)\u001b[K\rremote: Counting objects: 100% (8/8), done.\u001b[K\n",
            "remote: Compressing objects: 100% (6/6), done.\u001b[K\n",
            "remote: Total 470 (delta 1), reused 8 (delta 1), pack-reused 462 (from 1)\u001b[K\n",
            "Receiving objects: 100% (470/470), 226.84 MiB | 43.42 MiB/s, done.\n",
            "Resolving deltas: 100% (136/136), done.\n",
            "Updating files: 100% (719/719), done.\n"
          ]
        }
      ],
      "source": [
        "!git clone https://github.com/pekatour/Charlie-DB.git\n",
        "!mv ./Charlie-DB/dataset dataset\n",
        "!rm -rf Charlie-DB/"
      ]
    },
    {
      "cell_type": "code",
      "source": [
        "!ls dataset"
      ],
      "metadata": {
        "id": "RKaHMs_zscAM",
        "outputId": "fc34abb6-e4c6-4a04-c9a5-8067c3b023c9",
        "colab": {
          "base_uri": "https://localhost:8080/"
        }
      },
      "execution_count": 28,
      "outputs": [
        {
          "output_type": "stream",
          "name": "stdout",
          "text": [
            "data.yaml  test  train\tvalid\n"
          ]
        }
      ]
    }
  ]
}