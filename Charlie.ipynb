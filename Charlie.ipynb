{
  "cells": [
    {
      "cell_type": "markdown",
      "metadata": {
        "id": "m7z7UUKIKeWI"
      },
      "source": [
        "Make sure we have a GPU :"
      ]
    },
    {
      "cell_type": "code",
      "execution_count": null,
      "metadata": {
        "id": "BkSl-YWIQNvA"
      },
      "outputs": [],
      "source": [
        "import torch\n",
        "print(\"CUDA Available:\", torch.cuda.is_available())\n",
        "if torch.cuda.is_available():\n",
        "    print(\"GPU Name:\", torch.cuda.get_device_name(0))"
      ]
    },
    {
      "cell_type": "markdown",
      "metadata": {
        "id": "j1-6YmxM9WxS"
      },
      "source": [
        "# Fetch dataset"
      ]
    },
    {
      "cell_type": "code",
      "execution_count": null,
      "metadata": {
        "id": "IVWHE4Xcfed1"
      },
      "outputs": [],
      "source": [
        "!git clone https://github.com/pekatour/Charlie-DB.git\n",
        "!mkdir datasets\n",
        "!cp -r ./Charlie-DB/dataset datasets/dataset\n",
        "!cp ./Charlie-DB/data.yaml data.yaml\n",
        "!pip install ultralytics"
      ]
    },
    {
      "cell_type": "code",
      "execution_count": null,
      "metadata": {
        "id": "jjn6CGt-Plww"
      },
      "outputs": [],
      "source": [
        "!ls datasets/dataset"
      ]
    },
    {
      "cell_type": "markdown",
      "metadata": {
        "id": "uppn-qmv9lDu"
      },
      "source": [
        "Run this only if you want to reimport the dataset"
      ]
    },
    {
      "cell_type": "code",
      "execution_count": null,
      "metadata": {
        "id": "V0fut67QxjIP"
      },
      "outputs": [],
      "source": [
        "!rm -rf datasets/\n",
        "!mkdir datasets"
      ]
    },
    {
      "cell_type": "markdown",
      "metadata": {
        "id": "tzggTGCeflia"
      },
      "source": [
        "# Train"
      ]
    },
    {
      "cell_type": "code",
      "execution_count": null,
      "metadata": {
        "id": "I_yO3sTMvqS6"
      },
      "outputs": [],
      "source": [
        "# Import necessary libraries\n",
        "from ultralytics import YOLO\n",
        "\n",
        "# Load a pretrained YOLO model\n",
        "model = YOLO('yolo11n.pt') # Or any other suitable model\n",
        "\n",
        "# Train the model\n",
        "results = model.train(data='./data.yaml', epochs=50, imgsz=300) # Adjust parameters as needed"
      ]
    },
    {
      "cell_type": "code",
      "execution_count": null,
      "metadata": {
        "id": "CM3-XrIi3LFN"
      },
      "outputs": [],
      "source": [
        "# Résultats\n",
        "metrics = model.val()\n",
        "print(metrics.box.map)"
      ]
    },
    {
      "cell_type": "markdown",
      "metadata": {
        "id": "SSU_RMpsfgs4"
      },
      "source": [
        "# Check"
      ]
    },
    {
      "cell_type": "code",
      "execution_count": null,
      "metadata": {
        "id": "NJm4QaoASzPF"
      },
      "outputs": [],
      "source": [
        "model = YOLO(\"runs/detect/train/weights/best.pt\")\n",
        "\n",
        "# Run inference on test images and save results\n",
        "results = model.predict(source=\"./datasets/dataset/test/images\", save=True)"
      ]
    },
    {
      "cell_type": "code",
      "execution_count": null,
      "metadata": {
        "id": "6CEJTurBcLnx"
      },
      "outputs": [],
      "source": [
        "import glob\n",
        "import random\n",
        "import os\n",
        "from IPython.display import Image, display\n",
        "\n",
        "directory = './runs/detect/predict'\n",
        "# List all files in the directory and filter for .jpg files\n",
        "image_files = [f for f in os.listdir(directory) if f.endswith('.jpg')]\n",
        "\n",
        "# Get full paths\n",
        "image_paths = [os.path.join(directory, f) for f in image_files]\n",
        "\n",
        "sample_size = min(10, len(image_paths))\n",
        "for image_path in random.sample(image_paths, sample_size):\n",
        "  display(Image(filename=image_path, height=400))\n",
        "  print('\\n')"
      ]
    },
    {
      "cell_type": "code",
      "execution_count": null,
      "metadata": {},
      "outputs": [],
      "source": [
        "%load_ext autoreload\n",
        "%autoreload 2"
      ]
    },
    {
      "cell_type": "markdown",
      "metadata": {},
      "source": [
        "## Predict on a full image"
      ]
    },
    {
      "cell_type": "code",
      "execution_count": null,
      "metadata": {},
      "outputs": [],
      "source": [
        "from full_image_predict import full_image_predict\n",
        "\n",
        "full_image_predict(model, \"./original-images/5-9-0.jpg\", 300)"
      ]
    },
    {
      "cell_type": "markdown",
      "metadata": {},
      "source": [
        "# Export"
      ]
    },
    {
      "cell_type": "code",
      "execution_count": null,
      "metadata": {
        "id": "QbZrR4Sue9Ym"
      },
      "outputs": [],
      "source": [
        "from google.colab import files\n",
        "!zip -r train.zip runs/detect/train/\n",
        "files.download('train.zip')"
      ]
    },
    {
      "cell_type": "code",
      "execution_count": null,
      "metadata": {
        "id": "nTH6joBZfV--"
      },
      "outputs": [],
      "source": [
        "# Optionnel\n",
        "model.export(format=\"onnx\")"
      ]
    }
  ],
  "metadata": {
    "accelerator": "GPU",
    "colab": {
      "gpuType": "T4",
      "provenance": []
    },
    "kernelspec": {
      "display_name": ".venv",
      "language": "python",
      "name": "python3"
    },
    "language_info": {
      "codemirror_mode": {
        "name": "ipython",
        "version": 3
      },
      "file_extension": ".py",
      "mimetype": "text/x-python",
      "name": "python",
      "nbconvert_exporter": "python",
      "pygments_lexer": "ipython3",
      "version": "3.13.3"
    }
  },
  "nbformat": 4,
  "nbformat_minor": 0
}
