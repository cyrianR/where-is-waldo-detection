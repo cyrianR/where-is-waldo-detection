{
  "cells": [
    {
      "cell_type": "markdown",
      "metadata": {
        "id": "m7z7UUKIKeWI"
      },
      "source": [
        "Make sure we have a GPU :"
      ]
    },
    {
      "cell_type": "code",
      "execution_count": null,
      "metadata": {
        "id": "BkSl-YWIQNvA"
      },
      "outputs": [],
      "source": [
        "import torch\n",
        "print(\"CUDA Available:\", torch.cuda.is_available())\n",
        "if torch.cuda.is_available():\n",
        "    print(\"GPU Name:\", torch.cuda.get_device_name(0))"
      ]
    },
    {
      "cell_type": "markdown",
      "metadata": {
        "id": "j1-6YmxM9WxS"
      },
      "source": [
        "# Fetch repo and general setup"
      ]
    },
    {
      "cell_type": "code",
      "execution_count": null,
      "metadata": {
        "id": "IVWHE4Xcfed1"
      },
      "outputs": [],
      "source": [
        "!pip install ultralytics\n",
        "!git clone https://github.com/pekatour/Charlie-DB.git\n",
        "!cp ./Charlie-DB/data.yaml data.yaml\n",
        "!mkdir datasets"
      ]
    },
    {
      "cell_type": "markdown",
      "source": [
        "## ⚠️ Choose one Dataset"
      ],
      "metadata": {
        "id": "zY1t8lEYd21K"
      }
    },
    {
      "cell_type": "markdown",
      "source": [
        "Dataset 1 : full images"
      ],
      "metadata": {
        "id": "T26LObjycdDs"
      }
    },
    {
      "cell_type": "code",
      "source": [
        "!cp -r ./Charlie-DB/dataset datasets/dataset"
      ],
      "metadata": {
        "id": "oC8hELCTcgpK"
      },
      "execution_count": null,
      "outputs": []
    },
    {
      "cell_type": "markdown",
      "source": [
        "Dataset 2 : imagettes"
      ],
      "metadata": {
        "id": "clgW8s0nclt6"
      }
    },
    {
      "cell_type": "code",
      "source": [
        "!cp -r ./Charlie-DB/dataset-imagettes datasets/dataset"
      ],
      "metadata": {
        "id": "Yz-bjCy9ckY9"
      },
      "execution_count": null,
      "outputs": []
    },
    {
      "cell_type": "markdown",
      "metadata": {
        "id": "uppn-qmv9lDu"
      },
      "source": [
        "Run this only if you want to reimport a dataset"
      ]
    },
    {
      "cell_type": "code",
      "execution_count": null,
      "metadata": {
        "id": "V0fut67QxjIP"
      },
      "outputs": [],
      "source": [
        "!rm -rf datasets/\n",
        "!mkdir datasets"
      ]
    },
    {
      "cell_type": "markdown",
      "metadata": {
        "id": "tzggTGCeflia"
      },
      "source": [
        "# Train"
      ]
    },
    {
      "cell_type": "code",
      "execution_count": null,
      "metadata": {
        "id": "I_yO3sTMvqS6"
      },
      "outputs": [],
      "source": [
        "# Import necessary libraries\n",
        "from ultralytics import YOLO\n",
        "\n",
        "# Load a pretrained YOLO model\n",
        "model = YOLO('yolo11n.pt') # Or any other suitable model\n",
        "\n",
        "# Train the model\n",
        "results = model.train(data='./data.yaml', epochs=50, imgsz=300) # Adjust parameters as needed"
      ]
    },
    {
      "cell_type": "code",
      "execution_count": null,
      "metadata": {
        "id": "CM3-XrIi3LFN"
      },
      "outputs": [],
      "source": [
        "# Display results again\n",
        "metrics = model.val()\n",
        "print(metrics.box.map)"
      ]
    },
    {
      "cell_type": "markdown",
      "metadata": {
        "id": "SSU_RMpsfgs4"
      },
      "source": [
        "# Check"
      ]
    },
    {
      "cell_type": "markdown",
      "source": [
        "## Predict on the test folder"
      ],
      "metadata": {
        "id": "0tQJfIK8cwiS"
      }
    },
    {
      "cell_type": "code",
      "execution_count": null,
      "metadata": {
        "id": "NJm4QaoASzPF"
      },
      "outputs": [],
      "source": [
        "model = YOLO(\"runs/detect/train4/weights/best.pt\")\n",
        "\n",
        "# Run inference on test images and save results\n",
        "results = model.predict(source=\"./datasets/dataset/test/images\", save=True)"
      ]
    },
    {
      "cell_type": "markdown",
      "source": [
        "### Display some of the predictions of the test folder"
      ],
      "metadata": {
        "id": "oZGawOxjcyv5"
      }
    },
    {
      "cell_type": "code",
      "execution_count": null,
      "metadata": {
        "id": "6CEJTurBcLnx"
      },
      "outputs": [],
      "source": [
        "import glob\n",
        "import random\n",
        "import os\n",
        "from IPython.display import Image, display\n",
        "\n",
        "directory = './runs/detect/predict'\n",
        "image_files = [f for f in os.listdir(directory) if f.endswith('.jpg')]\n",
        "\n",
        "# Get full paths\n",
        "image_paths = [os.path.join(directory, f) for f in image_files]\n",
        "\n",
        "sample_size = min(10, len(image_paths))\n",
        "for image_path in random.sample(image_paths, sample_size):\n",
        "  display(Image(filename=image_path, height=400))\n",
        "  print('\\n')"
      ]
    },
    {
      "cell_type": "markdown",
      "metadata": {
        "id": "tMaXk8VBb0pU"
      },
      "source": [
        "## Predict on a full image with a threshold"
      ]
    },
    {
      "cell_type": "code",
      "source": [
        "!cp Charlie-DB/full_image_predict.py .\n",
        "!cp Charlie-DB/visualize_annotations.py .\n",
        "!cp Charlie-DB/vis_bbox.py ."
      ],
      "metadata": {
        "id": "1CsDIneah_wB"
      },
      "execution_count": null,
      "outputs": []
    },
    {
      "cell_type": "code",
      "execution_count": null,
      "metadata": {
        "id": "E-_0_LNRb0pU"
      },
      "outputs": [],
      "source": [
        "from full_image_predict import full_image_predict\n",
        "\n",
        "full_image_predict(model, \"./Charlie-DB/original-images/6-3-0.jpg\", 300)"
      ]
    },
    {
      "cell_type": "markdown",
      "source": [
        "Display the full image with predictions"
      ],
      "metadata": {
        "id": "hdZoQOdOdMQf"
      }
    },
    {
      "cell_type": "code",
      "source": [
        "# prompt: display the image located in folder named full_image_output\n",
        "\n",
        "from IPython.display import Image, display\n",
        "import os\n",
        "\n",
        "directory = './full_image_output'\n",
        "image_files = [f for f in os.listdir(directory) if f.lower().endswith(('.jpg'))]\n",
        "\n",
        "# Get full paths\n",
        "image_paths = [os.path.join(directory, f) for f in image_files]\n",
        "\n",
        "for image_path in image_paths:\n",
        "  display(Image(filename=image_path, height=400))\n",
        "  print('\\n')"
      ],
      "metadata": {
        "id": "XXWCpiLtdL10"
      },
      "execution_count": null,
      "outputs": []
    },
    {
      "cell_type": "markdown",
      "metadata": {
        "id": "4xT11rhLb0pV"
      },
      "source": [
        "# Export trained model"
      ]
    },
    {
      "cell_type": "code",
      "execution_count": null,
      "metadata": {
        "id": "QbZrR4Sue9Ym"
      },
      "outputs": [],
      "source": [
        "from google.colab import files\n",
        "!zip -r train.zip runs/detect/train4/\n",
        "files.download('train.zip')"
      ]
    },
    {
      "cell_type": "code",
      "execution_count": null,
      "metadata": {
        "id": "nTH6joBZfV--"
      },
      "outputs": [],
      "source": [
        "# Optionnel\n",
        "model.export(format=\"onnx\")"
      ]
    }
  ],
  "metadata": {
    "accelerator": "GPU",
    "colab": {
      "gpuType": "T4",
      "provenance": []
    },
    "kernelspec": {
      "display_name": ".venv",
      "language": "python",
      "name": "python3"
    },
    "language_info": {
      "codemirror_mode": {
        "name": "ipython",
        "version": 3
      },
      "file_extension": ".py",
      "mimetype": "text/x-python",
      "name": "python",
      "nbconvert_exporter": "python",
      "pygments_lexer": "ipython3",
      "version": "3.13.3"
    }
  },
  "nbformat": 4,
  "nbformat_minor": 0
}