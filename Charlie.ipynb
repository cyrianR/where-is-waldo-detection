{
  "nbformat": 4,
  "nbformat_minor": 0,
  "metadata": {
    "colab": {
      "provenance": [],
      "gpuType": "T4"
    },
    "kernelspec": {
      "name": "python3",
      "display_name": "Python 3"
    },
    "language_info": {
      "name": "python"
    },
    "accelerator": "GPU"
  },
  "cells": [
    {
      "cell_type": "markdown",
      "source": [
        "Make sure we have a GPU :"
      ],
      "metadata": {
        "id": "m7z7UUKIKeWI"
      }
    },
    {
      "cell_type": "code",
      "source": [
        "import torch\n",
        "print(\"CUDA Available:\", torch.cuda.is_available())\n",
        "if torch.cuda.is_available():\n",
        "    print(\"GPU Name:\", torch.cuda.get_device_name(0))"
      ],
      "metadata": {
        "id": "BkSl-YWIQNvA"
      },
      "execution_count": null,
      "outputs": []
    },
    {
      "cell_type": "markdown",
      "source": [
        "# Fetch dataset"
      ],
      "metadata": {
        "id": "j1-6YmxM9WxS"
      }
    },
    {
      "cell_type": "code",
      "execution_count": null,
      "metadata": {
        "id": "IVWHE4Xcfed1"
      },
      "outputs": [],
      "source": [
        "!git clone https://github.com/pekatour/Charlie-DB.git\n",
        "!mkdir datasets\n",
        "!cp -r ./Charlie-DB/dataset datasets/dataset\n",
        "!cp ./Charlie-DB/data.yaml data.yaml\n",
        "!pip install ultralytics"
      ]
    },
    {
      "cell_type": "code",
      "source": [
        "!ls datasets/dataset"
      ],
      "metadata": {
        "id": "jjn6CGt-Plww"
      },
      "execution_count": null,
      "outputs": []
    },
    {
      "cell_type": "markdown",
      "source": [
        "Run this only if you want to reimport the dataset"
      ],
      "metadata": {
        "id": "uppn-qmv9lDu"
      }
    },
    {
      "cell_type": "code",
      "source": [
        "!rm -rf datasets/\n",
        "!mkdir datasets"
      ],
      "metadata": {
        "id": "V0fut67QxjIP"
      },
      "execution_count": null,
      "outputs": []
    },
    {
      "cell_type": "markdown",
      "source": [
        "# Train"
      ],
      "metadata": {
        "id": "tzggTGCeflia"
      }
    },
    {
      "cell_type": "code",
      "source": [
        "# Import necessary libraries\n",
        "from ultralytics import YOLO\n",
        "\n",
        "# Load a pretrained YOLO model\n",
        "model = YOLO('yolo11n.pt') # Or any other suitable model\n",
        "\n",
        "# Train the model\n",
        "results = model.train(data='./data.yaml', epochs=50, imgsz=300) # Adjust parameters as needed"
      ],
      "metadata": {
        "id": "I_yO3sTMvqS6"
      },
      "execution_count": null,
      "outputs": []
    },
    {
      "cell_type": "code",
      "source": [
        "# Résultats\n",
        "metrics = model.val()\n",
        "print(metrics.box.map)"
      ],
      "metadata": {
        "id": "CM3-XrIi3LFN"
      },
      "execution_count": null,
      "outputs": []
    },
    {
      "cell_type": "markdown",
      "source": [
        "# Check"
      ],
      "metadata": {
        "id": "SSU_RMpsfgs4"
      }
    },
    {
      "cell_type": "code",
      "source": [
        "model = YOLO(\"runs/detect/train/weights/best.pt\")\n",
        "\n",
        "# Run inference on test images and save results\n",
        "results = model.predict(source=\"./datasets/dataset/test/images\", save=True)"
      ],
      "metadata": {
        "id": "NJm4QaoASzPF"
      },
      "execution_count": null,
      "outputs": []
    },
    {
      "cell_type": "code",
      "source": [
        "import glob\n",
        "import random\n",
        "from IPython.display import Image, display\n",
        "for image_path in random.sample(glob.glob(f'/content/runs/detect/predict/*.jpg'),10):\n",
        "  display(Image(filename=image_path, height=400))\n",
        "  print('\\n')"
      ],
      "metadata": {
        "id": "6CEJTurBcLnx"
      },
      "execution_count": null,
      "outputs": []
    },
    {
      "cell_type": "markdown",
      "source": [
        "# Export"
      ],
      "metadata": {
        "id": "76XQOgW0fYF7"
      }
    },
    {
      "cell_type": "code",
      "source": [
        "from google.colab import files\n",
        "!zip -r train.zip runs/detect/train/\n",
        "files.download('train.zip')"
      ],
      "metadata": {
        "id": "QbZrR4Sue9Ym"
      },
      "execution_count": null,
      "outputs": []
    },
    {
      "cell_type": "code",
      "source": [
        "# Optionnel\n",
        "model.export(format=\"onnx\")"
      ],
      "metadata": {
        "id": "nTH6joBZfV--"
      },
      "execution_count": null,
      "outputs": []
    }
  ]
}